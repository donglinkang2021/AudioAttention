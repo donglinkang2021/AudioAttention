{
 "cells": [
  {
   "cell_type": "code",
   "execution_count": 1,
   "metadata": {},
   "outputs": [],
   "source": [
    "import torch\n",
    "import torchaudio\n",
    "from torchaudio.datasets import LIBRISPEECH\n",
    "import matplotlib.pyplot as plt"
   ]
  },
  {
   "cell_type": "code",
   "execution_count": 2,
   "metadata": {},
   "outputs": [],
   "source": [
    "SPLITS = [\n",
    "    \"dev-clean\",\n",
    "    \"train-clean-360\",\n",
    "]\n",
    "\n",
    "DATA_ROOT = \"/opt/data/private/linkdom/data/\"\n",
    "\n",
    "dataset = LIBRISPEECH(root = DATA_ROOT, url = SPLITS[0], download = False)"
   ]
  },
  {
   "cell_type": "code",
   "execution_count": 3,
   "metadata": {},
   "outputs": [
    {
     "name": "stdout",
     "output_type": "stream",
     "text": [
      "torch.Size([1, 93680]) 16000 mister quilter is the apostle of the middle classes and we are glad to welcome his gospel 1272-128104-0\n"
     ]
    }
   ],
   "source": [
    "for waveform, sample_rate, utterance, speaker_id, chapter_id, utterance_id in dataset:\n",
    "    print(waveform.shape, sample_rate, utterance.lower(), f\"{speaker_id}-{chapter_id}-{utterance_id}\")\n",
    "    break"
   ]
  }
 ],
 "metadata": {
  "kernelspec": {
   "display_name": "GPT",
   "language": "python",
   "name": "python3"
  },
  "language_info": {
   "codemirror_mode": {
    "name": "ipython",
    "version": 3
   },
   "file_extension": ".py",
   "mimetype": "text/x-python",
   "name": "python",
   "nbconvert_exporter": "python",
   "pygments_lexer": "ipython3",
   "version": "3.9.18"
  }
 },
 "nbformat": 4,
 "nbformat_minor": 2
}
